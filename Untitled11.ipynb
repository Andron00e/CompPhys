{
  "nbformat": 4,
  "nbformat_minor": 0,
  "metadata": {
    "colab": {
      "provenance": []
    },
    "kernelspec": {
      "name": "python3",
      "display_name": "Python 3"
    },
    "language_info": {
      "name": "python"
    }
  },
  "cells": [
    {
      "cell_type": "code",
      "execution_count": null,
      "metadata": {
        "colab": {
          "base_uri": "https://localhost:8080/",
          "height": 53
        },
        "id": "K2mdKOZ29onq",
        "outputId": "73963210-c4f5-4c17-8b3a-04d180fe588e"
      },
      "outputs": [
        {
          "output_type": "stream",
          "name": "stderr",
          "text": [
            "100%|██████████| 1/1 [00:00<00:00,  2.58it/s]\n"
          ]
        },
        {
          "output_type": "display_data",
          "data": {
            "text/plain": [
              "<Figure size 432x288 with 0 Axes>"
            ]
          },
          "metadata": {}
        }
      ],
      "source": [
        "import sympy\n",
        "import mpmath\n",
        "import scipy.signal\n",
        "import matplotlib.pyplot as plt\n",
        "import os\n",
        "import tqdm\n",
        "\n",
        "# precition\n",
        "mpmath.mp.prec = 256\n",
        "\n",
        "def daubechies(N):\n",
        "    # make polynomial\n",
        "    q_y = [mpmath.binomial(N-1+k, k) for k in reversed(range(N))]\n",
        "\n",
        "    # get polynomial roots y[k]\n",
        "    y = mpmath.mp.polyroots(q_y, maxsteps=200, extraprec=64)\n",
        "\n",
        "    z = []\n",
        "    for yk in y:\n",
        "        # subustitute y = -1/4z + 1/2 - 1/4/z to factor f(y) = y - y[k]\n",
        "        f = [mpmath.mpf('-1/4'), mpmath.mpf('1/2') - yk, mpmath.mpf('-1/4')]\n",
        "\n",
        "        # get polynomial roots z[k] within unit circle\n",
        "        z += [ zk for zk in mpmath.mp.polyroots(f) if mpmath.fabs(zk) < 1 ]\n",
        "\n",
        "    # make polynomial using the roots\n",
        "    h0z = mpmath.sqrt('2')\n",
        "    for zk in z:\n",
        "        h0z *= sympy.sympify('(z-zk)/(1-zk)').subs('zk', zk)\n",
        "\n",
        "    # adapt vanishing moments\n",
        "    hz = (sympy.sympify('(1+z)/2')**N*h0z).expand()\n",
        "\n",
        "    # get scaling coefficients\n",
        "    return [sympy.re(hz.coeff('z', k)) for k in reversed(range(N*2))]\n",
        "\n",
        "def main():\n",
        "    coefficients_dir = 'coefficients'\n",
        "    scaling_png_dir = 'scaling_png'\n",
        "    wavelet_png_dir = 'wavelet_png'\n",
        "    os.makedirs(coefficients_dir, exist_ok=True)\n",
        "    os.makedirs(scaling_png_dir, exist_ok=True)\n",
        "    os.makedirs(wavelet_png_dir, exist_ok=True)\n",
        "\n",
        "    for N in tqdm.tqdm(range(2, 3)):\n",
        "        # get dbN coeffients\n",
        "        dbN = daubechies(N)\n",
        "\n",
        "        # write coeffients\n",
        "        lines = []\n",
        "        lines.append(f'# db{N} scaling coefficients\\n')\n",
        "        for i, h in enumerate(dbN):\n",
        "            lines.append(f'{mpmath.nstr(h, 40, min_fixed=0)}\\n')\n",
        "        with open(os.path.join(coefficients_dir, f'db{N:02d}_coefficients.txt'), 'w', newline='\\n') as f:\n",
        "            f.writelines(lines)\n",
        "\n",
        "        # get an approximation of scaling function\n",
        "        x, phi, psi = scipy.signal.cascade(dbN)\n",
        "\n",
        "        # plot scaling function\n",
        "        plt.plot(x, phi)\n",
        "        plt.grid()\n",
        "        plt.title(f'db{N} scaling function')\n",
        "        plt.savefig(os.path.join(scaling_png_dir, f'db{N:02d}_scaling.png'))\n",
        "        plt.clf()\n",
        "\n",
        "        # plot wavelet\n",
        "        plt.plot(x, psi)\n",
        "        plt.grid()\n",
        "        plt.title(f'db{N} wavelet')\n",
        "        plt.savefig(os.path.join(wavelet_png_dir, f'db{N:02d}_wavelet.png'))\n",
        "        plt.clf()\n",
        "\n",
        "if __name__ == '__main__':\n",
        "    main()"
      ]
    },
    {
      "cell_type": "code",
      "source": [],
      "metadata": {
        "id": "A7lkFcmIbyT9"
      },
      "execution_count": null,
      "outputs": []
    }
  ]
}